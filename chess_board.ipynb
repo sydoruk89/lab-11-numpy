{
 "cells": [
  {
   "cell_type": "code",
   "execution_count": 5,
   "metadata": {},
   "outputs": [],
   "source": [
    "import numpy as np\n",
    "import matplotlib.pyplot as plt"
   ]
  },
  {
   "cell_type": "code",
   "execution_count": 6,
   "metadata": {},
   "outputs": [],
   "source": [
    "class ChessBoard:\n",
    "    \n",
    "    def __init__(self):\n",
    "        self.grid = np.zeros((8, 8, 3))\n",
    "        for i in range(8):\n",
    "            for j in range(8):\n",
    "                if not (i + j) % 2:\n",
    "                    self.grid[i][j] = (1, 1, 1)\n",
    "                    \n",
    "    def add_red(self, row, col):\n",
    "        self.grid[row, col] = (1, .2, 0)\n",
    "        \n",
    "    def add_blue(self, row, col):\n",
    "        self.grid[row, col] = (.1, .1, 1)\n",
    "        \n",
    "        \n",
    "    def render(self):\n",
    "        plt.imshow(self.grid)\n",
    "        \n",
    "    def is_under_attack(self, red_row, red_col, blue_row, blue_col):\n",
    "        if abs(red_row - blue_row) == abs(red_col - blue_col) or red_row == blue_row or red_col == blue_col:\n",
    "            return True\n",
    "        else:\n",
    "            return False\n",
    "        \n",
    "        "
   ]
  },
  {
   "cell_type": "code",
   "execution_count": 7,
   "metadata": {},
   "outputs": [
    {
     "data": {
      "text/plain": [
       "True"
      ]
     },
     "execution_count": 7,
     "metadata": {},
     "output_type": "execute_result"
    },
    {
     "data": {
      "image/png": "[encoded data removed]",
      "text/plain": [
       "<Figure size 432x288 with 1 Axes>"
      ]
     },
     "metadata": {
      "needs_background": "light"
     },
     "output_type": "display_data"
    }
   ],
   "source": [
    "board = ChessBoard()\n",
    "board.add_red(3,3)\n",
    "board.add_blue(3,5)\n",
    "board.render()\n",
    "board.is_under_attack(3, 3, 3, 5)\n"
   ]
  },
  {
   "cell_type": "code",
   "execution_count": 17,
   "metadata": {},
   "outputs": [],
   "source": [
    "assert board.is_under_attack(1,2,1,4) == True\n",
    "assert board.is_under_attack(1,2,3,2) == True\n",
    "assert board.is_under_attack(1,1,2,2) == True\n",
    "assert board.is_under_attack(0,0,3,1) == False"
   ]
  },
  {
   "cell_type": "code",
   "execution_count": null,
   "metadata": {},
   "outputs": [],
   "source": []
  }
 ],
 "metadata": {
  "kernelspec": {
   "display_name": "Python 3",
   "language": "python",
   "name": "python3"
  },
  "language_info": {
   "codemirror_mode": {
    "name": "ipython",
    "version": 3
   },
   "file_extension": ".py",
   "mimetype": "text/x-python",
   "name": "python",
   "nbconvert_exporter": "python",
   "pygments_lexer": "ipython3",
   "version": "3.8.3"
  }
 },
 "nbformat": 4,
 "nbformat_minor": 4
}
